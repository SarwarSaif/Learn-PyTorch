{
  "nbformat": 4,
  "nbformat_minor": 0,
  "metadata": {
    "colab": {
      "name": "Linear Regression in PyTorch.ipynb",
      "provenance": [],
      "collapsed_sections": [],
      "authorship_tag": "ABX9TyMs9IMutYuiIBrrM9rKtH/p",
      "include_colab_link": true
    },
    "kernelspec": {
      "name": "python3",
      "display_name": "Python 3"
    },
    "language_info": {
      "name": "python"
    }
  },
  "cells": [
    {
      "cell_type": "markdown",
      "metadata": {
        "id": "view-in-github",
        "colab_type": "text"
      },
      "source": [
        "<a href=\"https://colab.research.google.com/github/SarwarSaif/Learn-PyTorch/blob/main/Linear_Regression_in_PyTorch.ipynb\" target=\"_parent\"><img src=\"https://colab.research.google.com/assets/colab-badge.svg\" alt=\"Open In Colab\"/></a>"
      ]
    },
    {
      "cell_type": "markdown",
      "metadata": {
        "id": "Ta1WJLm0KXwh"
      },
      "source": [
        "## Linear Regression"
      ]
    },
    {
      "cell_type": "markdown",
      "metadata": {
        "id": "ZXXJT1Zq2PUo"
      },
      "source": [
        "> Steps for Linear Regression:\n",
        "> 1. Design model (input, output size, forward pass)\n",
        "> 2. Construct loss and optimizer\n",
        "> 3. Training loop\n",
        ">  - forward pass: compute prediction\n",
        ">  - backward pass: gradients\n",
        ">  - update weights"
      ]
    },
    {
      "cell_type": "code",
      "metadata": {
        "id": "oaR3EzYF3CLv"
      },
      "source": [
        "# Import Librairies\n",
        "import torch \n",
        "import torch.nn as nn # get neural network module\n",
        "import numpy as np # for data transformation\n",
        "from sklearn import datasets # for regression datasets\n",
        "import matplotlib.pyplot as plt # to plot the data"
      ],
      "execution_count": 2,
      "outputs": []
    },
    {
      "cell_type": "code",
      "metadata": {
        "colab": {
          "base_uri": "https://localhost:8080/"
        },
        "id": "9FNwZngZ2Jkk",
        "outputId": "a64189df-455a-4a58-fac2-c3e1edc26097"
      },
      "source": [
        "\n",
        "# (1) prepare our dataset\n",
        "# Create a sample regression dataset using sklearn datasets\n",
        "X_numpy, y_numpy = datasets.make_regression(n_samples=100, n_features=1, noise=2, random_state=2)\n",
        "print(f\"Shape & Type of X: {X_numpy.shape, type(X_numpy)}, y: {y_numpy.shape, type(y_numpy)}\")\n",
        "\n",
        "# Convert numpy intp tensor to feed into pytorch nn\n",
        "X = torch.from_numpy(X_numpy.astype(np.float32))\n",
        "y = torch.from_numpy(y_numpy.astype(np.float32))\n",
        "y = y.view(y.shape[0], 1) # reshape the y into a column vector to feed as feature vector\n",
        "\n",
        "n_samples, n_features = X.shape\n",
        "\n",
        "# (2) Build linear regression model\n",
        "input_size = n_features\n",
        "output_size = n_features\n",
        "model = nn.Linear(input_size, output_size)\n",
        "\n",
        "# (3) Set our Loss and Optimizer\n",
        "learning_rate = 0.01\n",
        "loss = nn.MSELoss() # Callable Loss Function\n",
        "optimizer = torch.optim.SGD(model.parameters(), lr=learning_rate)\n",
        "\n",
        "# (4) Training Loop\n",
        "num_epochs = 1000\n",
        "for epoch in range(num_epochs):\n",
        "  # forward pass\n",
        "  y_pred = model(X)\n",
        "\n",
        "  # backward pass\n",
        "  l = loss(y_pred, y) # calculate loss\n",
        "  l.backward() # calculate gradients\n",
        "\n",
        "  # update weights \n",
        "  optimizer.step()\n",
        "\n",
        "  # clear gradients\n",
        "  optimizer.zero_grad()\n",
        "\n",
        "  if epoch % 100 == 0:\n",
        "    [w, b] = model.parameters() # unpack the parameters\n",
        "    print(f\"epoch {epoch+1}: w={w[0][0].item(): .3f}, loss = {l:.8f}\")\n",
        "\n",
        "# Calculate RMSE \n",
        "def rmse(y, y_hat):\n",
        "    if y_hat is None:\n",
        "        return\n",
        "    return torch.sqrt(torch.mean(torch.square(y_hat - y)))\n",
        "\n",
        "y_pred = model(X)\n",
        "print(f\"RMSE: {rmse(y, y_pred)}\")\n",
        "# Claculate Residuals\n",
        "resid = torch.sub(y_pred, y)\n",
        "#print(resid)"
      ],
      "execution_count": 41,
      "outputs": [
        {
          "output_type": "stream",
          "text": [
            "Shape & Type of X: ((100, 1), <class 'numpy.ndarray'>), y: ((100,), <class 'numpy.ndarray'>)\n",
            "epoch 1: w= 0.541, loss = 4086.72900391\n",
            "epoch 101: w= 53.720, loss = 57.07466125\n",
            "epoch 201: w= 59.749, loss = 4.35281515\n",
            "epoch 301: w= 60.468, loss = 3.50753307\n",
            "epoch 401: w= 60.558, loss = 3.49139738\n",
            "epoch 501: w= 60.570, loss = 3.49105358\n",
            "epoch 601: w= 60.571, loss = 3.49104667\n",
            "epoch 701: w= 60.572, loss = 3.49104619\n",
            "epoch 801: w= 60.572, loss = 3.49104643\n",
            "epoch 901: w= 60.572, loss = 3.49104619\n",
            "RMSE: 1.8684340715408325\n"
          ],
          "name": "stdout"
        }
      ]
    },
    {
      "cell_type": "code",
      "metadata": {
        "colab": {
          "base_uri": "https://localhost:8080/",
          "height": 483
        },
        "id": "wKuWO1q04B-A",
        "outputId": "162e0d69-7f36-41b2-c19f-9e9cb44de6cb"
      },
      "source": [
        "# Plot\n",
        "# define figure \n",
        "fig = plt.figure(figsize=(12, 8)) \n",
        "ax = fig.add_subplot(111) \n",
        "# To Plot the predicted value we need to detach the gradient history function from the tensor\n",
        "y_pred = model(X).detach().numpy() # remove 'grad_fn' and convert to numpy\n",
        "#plt.plot(X_numpy, y_numpy, 'ro')\n",
        "ax.scatter(X_numpy, y_numpy, color='orange', label=\"observed\")\n",
        "ax.plot(X_numpy, y_pred, 'b', label=\"predicted\")\n",
        "plt.legend()\n",
        "plt.show()"
      ],
      "execution_count": 40,
      "outputs": [
        {
          "output_type": "display_data",
          "data": {
            "image/png": "[encoded data removed]",
            "text/plain": [
              "<Figure size 864x576 with 1 Axes>"
            ]
          },
          "metadata": {
            "tags": [],
            "needs_background": "light"
          }
        }
      ]
    },
    {
      "cell_type": "code",
      "metadata": {
        "id": "BXSztTI8BUAf"
      },
      "source": [
        ""
      ],
      "execution_count": null,
      "outputs": []
    },
    {
      "cell_type": "code",
      "metadata": {
        "id": "Ry9CMWAFKnHI"
      },
      "source": [
        ""
      ],
      "execution_count": null,
      "outputs": []
    }
  ]
}